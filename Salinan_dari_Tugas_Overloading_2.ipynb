{
  "nbformat": 4,
  "nbformat_minor": 0,
  "metadata": {
    "colab": {
      "provenance": [],
      "include_colab_link": true
    },
    "kernelspec": {
      "name": "python3",
      "display_name": "Python 3"
    },
    "language_info": {
      "name": "python"
    }
  },
  "cells": [
    {
      "cell_type": "markdown",
      "metadata": {
        "id": "view-in-github",
        "colab_type": "text"
      },
      "source": [
        "<a href=\"https://colab.research.google.com/github/NadiaErica/class-object/blob/main/Salinan_dari_Tugas_Overloading_2.ipynb\" target=\"_parent\"><img src=\"https://colab.research.google.com/assets/colab-badge.svg\" alt=\"Open In Colab\"/></a>"
      ]
    },
    {
      "cell_type": "code",
      "execution_count": 4,
      "metadata": {
        "id": "5zCytCeM1uD4"
      },
      "outputs": [],
      "source": [
        "class Nama:\n",
        "  def hasil(self, namadepan = \"\", namatengah1= \"\", namatengah2 = \"\", namaakhir= \"\"):\n",
        "    print( namadepan + namatengah1 + namatengah2 + namaakhir)\n"
      ]
    },
    {
      "cell_type": "code",
      "source": [
        "coba = Nama()\n",
        "\n",
        "coba.hasil(\" Nadia \", \" Erica\")\n",
        "coba.hasil(\" Neyla \",\" Ayudya \",\" Alfi \",\" Syafa\")\n",
        "coba.hasil(\" Nuril \", \" Izza \",\" Nafisah\")\n",
        "coba.hasil(\" Nia\", \" Rahmadani \")"
      ],
      "metadata": {
        "id": "liQBcJWZ12MN",
        "colab": {
          "base_uri": "https://localhost:8080/"
        },
        "outputId": "ded0003a-3add-457b-cc0b-723376166548"
      },
      "execution_count": 5,
      "outputs": [
        {
          "output_type": "stream",
          "name": "stdout",
          "text": [
            " Nadia  Erica\n",
            " Neyla  Ayudya  Alfi  Syafa\n",
            " Nuril  Izza  Nafisah\n",
            " Nia Rahmadani \n"
          ]
        }
      ]
    },
    {
      "cell_type": "markdown",
      "source": [
        "overloading adalah konsep dalam OOP dimana sebuah kelas memiliki method dengan nama yang sama tetapi diikuti parameter yang berbeda. contohnya menggunakan default parameter yang menjadikan parameter bersifat opsional dengan memberi nilai default. mengubah nilai num1,num2,num3 dengan namadepan, namatengah, namaakhir. mengubah nilai angka dalam fungsi coba.hasil menjadi nama dengan string."
      ],
      "metadata": {
        "id": "MdgobdbCmhmW"
      }
    }
  ]
}