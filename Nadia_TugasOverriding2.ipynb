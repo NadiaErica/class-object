{
  "nbformat": 4,
  "nbformat_minor": 0,
  "metadata": {
    "colab": {
      "provenance": [],
      "include_colab_link": true
    },
    "kernelspec": {
      "name": "python3",
      "display_name": "Python 3"
    },
    "language_info": {
      "name": "python"
    }
  },
  "cells": [
    {
      "cell_type": "markdown",
      "metadata": {
        "id": "view-in-github",
        "colab_type": "text"
      },
      "source": [
        "<a href=\"https://colab.research.google.com/github/NadiaErica/class-object/blob/main/Nadia_TugasOverriding2.ipynb\" target=\"_parent\"><img src=\"https://colab.research.google.com/assets/colab-badge.svg\" alt=\"Open In Colab\"/></a>"
      ]
    },
    {
      "cell_type": "markdown",
      "source": [
        "Anda bekerja sebagai programmer di sebuah supermarket besar. Manajemen supermarket ingin Anda mengembangkan program Python untuk mengelola berbagai jenis produk yang mereka jual di toko mereka. Mereka memiliki kelas dasar **Produk** dengan atribut berikut:\n",
        "\n",
        "*   kode_barang (kode unik produk)\n",
        "*   nama (nama produk)\n",
        "*   harga (harga produk)\n",
        "\n",
        "Selain itu, mereka memiliki dua jenis produk spesifik: **ProdukMakanan** dan **ProdukElektronik**. Produk makanan memiliki atribut tambahan:\n",
        "\n",
        "*   tanggal_kadaluarsa (tanggal kadaluarsa makanan)\n",
        "\n",
        "Sementara Produk elektronik memiliki atribut tambahan:\n",
        "\n",
        "*   garansi (lama garansi dalam bulan)\n",
        "\n",
        "Manajemen supermarket ingin Anda membuat program Python yang memungkinkan mereka untuk mencetak informasi tentang setiap produk, termasuk kode barang, nama, harga, serta atribut tambahan yang sesuai (tanggal kadaluarsa atau lama garansi).\n",
        "\n",
        "Tugas Anda adalah:\n",
        "\n",
        "\n",
        "1.   Membuat kelas Produk dengan atribut kode_barang, nama, dan harga, serta metode deskripsi yang mencetak informasi tentang produk tersebut.\n",
        "2.   Membuat kelas ProdukMakanan yang mewarisi dari kelas Produk dan memiliki atribut tambahan tanggal_kadaluarsa, serta mengimplementasikan metode deskripsi untuk mencetak informasi tentang produk makanan.\n",
        "1.   Membuat kelas ProdukElektronik yang juga mewarisi dari kelas Produk dan memiliki atribut tambahan garansi, serta mengimplementasikan metode deskripsi untuk mencetak informasi tentang produk elektronik.\n",
        "\n",
        "Program Anda harus mendemonstrasikan penggunaan konsep **overriding** dalam Python dalam konteks produk di supermarket.\n",
        "\n",
        "Selamat mengerjakan!\n",
        "\n",
        "\n",
        "\n",
        "\n",
        "\n"
      ],
      "metadata": {
        "id": "Yo0ulCyP2WPG"
      }
    },
    {
      "cell_type": "code",
      "execution_count": 20,
      "metadata": {
        "id": "tG1-g1OW2KSu"
      },
      "outputs": [],
      "source": [
        "class Produk:\n",
        "  def __init__(self, NamaProduk, Kode_Barang, Harga):\n",
        "    self.NamaProduk = NamaProduk\n",
        "    self.Kode_Barang = Kode_Barang\n",
        "    self.Harga = Harga\n",
        "\n",
        "  def deskripsi(self):\n",
        "      print(f'NamaProduk :  {self.NamaProduk}')\n",
        "      print(f'Kode_Barang : {self.Kode_Barang}')\n",
        "      print(f'Harga : {self.Harga}')"
      ]
    },
    {
      "cell_type": "code",
      "source": [
        "class ProdukMakanan(Produk):\n",
        "   def __init__(self, NamaProduk, Kode_Barang, Harga, Tanggal_Kadaluarsa):\n",
        "     super().__init__(NamaProduk, Kode_Barang, Harga)\n",
        "     self.Tanggal_Kadaluarsa = Tanggal_Kadaluarsa\n",
        "\n",
        "   def deskripsi(self):\n",
        "     super().deskripsi()\n",
        "     print(\"Tanggal_kadaluarsa\", self.Tanggal_Kadaluarsa)\n"
      ],
      "metadata": {
        "id": "oy32Lm4m39l0"
      },
      "execution_count": 21,
      "outputs": []
    },
    {
      "cell_type": "code",
      "source": [
        "class ProdukElektronik(Produk):\n",
        "  def __init__(self, NamaProduk, Kode_Barang, Harga, Garansi):\n",
        "    super().__init__(NamaProduk, Kode_Barang, Harga)\n",
        "    self.Garansi = Garansi\n",
        "\n",
        "  def deskripsi(self):\n",
        "    super().deskripsi()\n",
        "    print('Garansi', self.Garansi)"
      ],
      "metadata": {
        "id": "wEgEGwxm4A1y"
      },
      "execution_count": 22,
      "outputs": []
    },
    {
      "cell_type": "code",
      "source": [
        "# Contoh penggunaan masing-masing jenis class produk\n",
        "produk1 = ProdukMakanan(\"rotiaoka\", 1806, 2500, \"06juni2026\")\n",
        "produk2 = ProdukElektronik(\"kulkas\", 1301, 1500000, \"1tahun\")\n",
        "\n",
        "\n",
        "# Deskripsi produk makanan\n",
        "print(\"Deskripsi Produk Makanan:\")\n",
        "produk1.deskripsi()\n",
        "\n",
        "# Deskripsi produk elektronik\n",
        "print(\"Deskripsi Produk Elektronik:\")\n",
        "produk2.deskripsi()"
      ],
      "metadata": {
        "id": "noeSP_dw4F4c",
        "colab": {
          "base_uri": "https://localhost:8080/"
        },
        "outputId": "d7432548-2bb2-4162-a15c-dd1246f49610"
      },
      "execution_count": 23,
      "outputs": [
        {
          "output_type": "stream",
          "name": "stdout",
          "text": [
            "Deskripsi Produk Makanan:\n",
            "NamaProduk :  rotiaoka\n",
            "Kode_Barang : 1806\n",
            "Harga : 2500\n",
            "Tanggal_kadaluarsa 06juni2026\n",
            "Deskripsi Produk Elektronik:\n",
            "NamaProduk :  kulkas\n",
            "Kode_Barang : 1301\n",
            "Harga : 1500000\n",
            "Garansi 1tahun\n"
          ]
        }
      ]
    }
  ]
}